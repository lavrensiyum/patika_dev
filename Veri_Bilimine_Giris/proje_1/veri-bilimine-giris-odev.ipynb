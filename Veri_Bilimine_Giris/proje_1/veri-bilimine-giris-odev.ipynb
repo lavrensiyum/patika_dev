{
 "cells": [
  {
   "attachments": {},
   "cell_type": "markdown",
   "metadata": {},
   "source": [
    "<h1><center>Kimya ve Veri Bilimi</center></h1>\n",
    "<h2><center>Türk Telekom & TRAI Veri Bilimi ve Analitiği Practicum</center></h2>\n",
    "<h3><center>patika.dev</center></h3>\n",
    "<h4><center>Kadir Yıldız</center></h4>\n"
   ]
  },
  {
   "attachments": {},
   "cell_type": "markdown",
   "metadata": {},
   "source": [
    "In chemistry, the importance of data science is in the collection and processing of data from experiments or instrumental analysis. If we add the concept of \"Machine Learning\" in the middle of these two disciplines, in addition to the collection and processing of data, capabilities such as prediction, better understanding and interpretation of data are unlocked. Ultimately, machine learning is nothing without data, and data is nothing without processing. Therefore, it is necessary to combine these two topics. \n"
   ]
  },
  {
   "attachments": {},
   "cell_type": "markdown",
   "metadata": {},
   "source": [
    "In this context, some of the topics where chemistry and machine learning will work together:"
   ]
  },
  {
   "attachments": {},
   "cell_type": "markdown",
   "metadata": {},
   "source": [
    "1. Molecular data prediction: By making predictions from molecular datasets, machine learning can help predict the properties of molecular structures, and this can facilitate the prediction and design of physicochemical properties of molecules.\n",
    "\n",
    "   https://paperswithcode.com/task/molecular-property-prediction/\n"
   ]
  },
  {
   "attachments": {},
   "cell_type": "markdown",
   "metadata": {},
   "source": [
    "2. Chemical reaction prediction: By making predictions from datasets, machine learning can predict the properties of chemical reactions. This can improve the rates of reactions, the prediction of products or simply the design of reactions.\n",
    "\n",
    "   https://paperswithcode.com/task/chemical-reaction-prediction"
   ]
  },
  {
   "attachments": {},
   "cell_type": "markdown",
   "metadata": {},
   "source": [
    "3. Data visualization: Machine learning can help visualize chemistry data sets. For example, by making inferences from data sets, it can make it easier to visualize the structure of chemical substances and help understand the properties of substances.\n",
    "\n",
    "   https://pubs.acs.org/doi/10.1021/acs.jcim.0c00971\n",
    "   "
   ]
  },
  {
   "attachments": {},
   "cell_type": "markdown",
   "metadata": {},
   "source": [
    "Once the data has been processed, visualizing it and giving a rough overview and summary information from the top makes it easier for the researcher. Here are some python libraries:"
   ]
  },
  {
   "attachments": {},
   "cell_type": "markdown",
   "metadata": {},
   "source": [
    "1.\tPandas: It has the ability to read, write, edit, filter and perform various data manipulation operations in many formats, especially in .CSV format.\n",
    "![alt text](files/im1.png \"Pandas\")"
   ]
  },
  {
   "attachments": {},
   "cell_type": "markdown",
   "metadata": {},
   "source": [
    "2.\tMatplotlib: With this library, Python can be used to display various data with graph types, organize drawings; Line, Bar, Scatter, Histograms, Heatmaps, etc. graphs of types can be created.\n",
    "![alt text](files/im2.png \"Matplotlib\")"
   ]
  },
  {
   "attachments": {},
   "cell_type": "markdown",
   "metadata": {},
   "source": [
    "In the end, machine learning can be an important tool for better understanding and interpretation of chemistry data, which can increase the efficiency of chemistry studies as well as reduce budgets and the human effort. But it should be remembered that neural networks are nothing without data, and as the importance and power of data science grows, so will the usability of artificial intelligence network."
   ]
  },
  {
   "attachments": {},
   "cell_type": "markdown",
   "metadata": {},
   "source": [
    "GitHub repo used in the images:\n",
    "\n",
    "https://github.com/CathyQian/Data_Science_Projects/blob/master/Predicting_Merck_Molecular_Activity/Clusterone_Merck%20challenge.ipynb\n",
    "."
   ]
  }
 ],
 "metadata": {
  "kernelspec": {
   "display_name": "Python 3",
   "language": "python",
   "name": "python3"
  },
  "language_info": {
   "name": "python",
   "version": "3.11.0 (main, Oct 24 2022, 18:26:48) [MSC v.1933 64 bit (AMD64)]"
  },
  "orig_nbformat": 4,
  "vscode": {
   "interpreter": {
    "hash": "e43d905b86a4b2dd32889a1f03dcb5d7afde64c90ed650e3e2ab3f64bb93826b"
   }
  }
 },
 "nbformat": 4,
 "nbformat_minor": 2
}
